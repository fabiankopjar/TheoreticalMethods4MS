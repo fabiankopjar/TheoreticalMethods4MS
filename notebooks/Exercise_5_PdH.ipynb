{
 "cells": [
  {
   "cell_type": "code",
   "execution_count": null,
   "metadata": {},
   "outputs": [],
   "source": [
    "# GOOGLE COLAB: EXECUTE THIS CELL\n",
    "! pip install lammps -q\n",
    "! pip install git+https://github.com/henriasv/lammps-logfile.git"
   ]
  },
  {
   "cell_type": "code",
   "execution_count": null,
   "metadata": {},
   "outputs": [],
   "source": [
    "# EXECUTE THIS CELL\n",
    "import re\n",
    "\n",
    "import pandas as pd\n",
    "import numpy as np\n",
    "\n",
    "from scipy.optimize import curve_fit\n",
    "import warnings\n",
    "from scipy.optimize import OptimizeWarning\n",
    "warnings.simplefilter(\"ignore\", OptimizeWarning)    # Suppress only OptimizeWarning\n",
    "\n",
    "import matplotlib.pyplot as plt\n",
    "import seaborn as sns\n",
    "sns.set_context(\"talk\")\n",
    "\n",
    "import lammps_logfile\n",
    "from lammps import lammps"
   ]
  },
  {
   "cell_type": "markdown",
   "metadata": {},
   "source": [
    "# Exercise: Diffusion of Hydrogen in Palladium\n",
    "\n",
    "Molecular dynamics (MD) simulations are a powerful tool for understanding the atomic-scale mechanisms that underlie real-world materials behavior. In fields like hydrogen storage, fuel cells, and catalysis, the ability of hydrogen to diffuse through metals such as palladium is of critical importance. However, these processes are difficult to observe directly at the atomic level.\n",
    "\n",
    "In this exercise, you will study the diffusion of hydrogen (H) atoms in a palladium (Pd) matrix using molecular dynamics simulations. Palladium has a face-centered cubic (FCC) structure, and hydrogen atoms occupy interstitial sites, forming an interstitial solid solution.\n",
    "\n",
    "You are provided with equilibrated atomic configurations of Pd with a dilute concentration of hydrogen (`PdH_equilibrated_*.data`) at different temperatures (350 K, 400 K, 450 K, 500 K). Your task is to analyze how hydrogen atoms move through the Pd lattice over time, and to extract physical insights about the diffusion process.\n",
    "\n",
    "Specifically, you will:\n",
    "\n",
    "- Perform molecular dynamics simulations at different temperatures,\n",
    "\n",
    "- Load time-resolved mean squared displacement (MSD) data for H atoms,\n",
    "\n",
    "- Fit a linear model to the MSD vs. time curves to determine diffusion coefficients at each temperature,\n",
    "\n",
    "- Construct an Arrhenius plot of $\\ln D$ vs. $1/T$ to extract the activation energy for hydrogen diffusion in palladium."
   ]
  },
  {
   "cell_type": "markdown",
   "metadata": {},
   "source": [
    "<div style=\"text-align: center;\">\n",
    "  <img src=\"PdH_crop.gif\" style=\"width: 500px;\">\n",
    "  <p style=\"font-size: 0.9em; text-align: center;\">\n",
    "    Hydrogen diffusion in a palladium (Pd) matrix. Hydrogen atoms (black) move through the semitransparent grey Pd lattice, with their trajectories visualized as they evolve over time.\n",
    "  </p>\n",
    "</div>"
   ]
  },
  {
   "cell_type": "markdown",
   "metadata": {},
   "source": [
    "# (a) Production runs"
   ]
  },
  {
   "cell_type": "markdown",
   "metadata": {},
   "source": [
    "## 350 K"
   ]
  },
  {
   "cell_type": "markdown",
   "metadata": {},
   "source": [
    "1. Begin by copying the files `PdH_Zhou_June29_2007_2.eam.alloy` and `PdH_equilibrated_*.data` into your working directory.\n",
    "\n",
    "2. Execute the cell to generate a LAMMPS input script for a simulation at 350 K. This snippet will create a file named `PdH_350.in` in your working directory. Take a moment to understand the simulation setup and parameters before executing the cell.\n",
    "\n",
    "3. Then run the next cell to submit the simulation.\n",
    "\n",
    "4. Make note of the files and associated properties generated during the simulation.\n",
    "\n",
    "5. Once the simulation at 350 K is complete, duplicate both cells and adapt them to run simulations at the other temperatures of interest: 400 K, 450 K, and 500 K.\n",
    "\n",
    "    > **Important:**  \n",
    "    > Make sure to update all temperature-specific values in both the input script and the submission command, including:\n",
    "    > - The target temperature,\n",
    "    > - Output file names (to avoid overwriting),\n",
    "    > - Any labels used in filenames, variables, or logs."
   ]
  },
  {
   "cell_type": "code",
   "execution_count": null,
   "metadata": {},
   "outputs": [],
   "source": [
    "%%writefile PdH_350.in\n",
    "# Set up units and boundaries\n",
    "units       metal\n",
    "boundary    p p p\n",
    "atom_style  atomic\n",
    "\n",
    "# Read input data\n",
    "read_data   PdH_equilibrated_350.data\n",
    "\n",
    "# Define masses for atomic types\n",
    "mass 1      1.00794  # H\n",
    "mass 2      106.42  # Pd \n",
    "\n",
    "pair_style eam/alloy\n",
    "pair_coeff * * PdH_Zhou_June29_2007_2.eam.alloy H Pd\n",
    "\n",
    "##################################\n",
    "# Parameters #\n",
    "variable    randomSeed equal        40       \n",
    "variable    timeStepLength equal    0.001    # In ps\n",
    "variable    tDamp equal             0.1      # Thermostat damping (ps)\n",
    "variable    pDamp equal             1        # Barostat damping (ps)\n",
    "variable    startingTemp equal      350      # Initial temperature in K\n",
    "variable    externalPressure equal  0.0      # External pressure in atm\n",
    "variable    run1 equal              50000   # Steps \n",
    "##################################\n",
    "\n",
    "group Hatoms    type 1 \n",
    "compute         Hmsd Hatoms msd com yes\n",
    "variable        time equal step*${timeStepLength}\n",
    "\n",
    "fix msdout all ave/time 100 1 100 c_Hmsd[4] file msd_H_350.txt\n",
    "\n",
    "# Set timestep\n",
    "timestep    ${timeStepLength}\n",
    "\n",
    "# Starting simulation\n",
    "\n",
    "thermo_style custom step temp press ke pe etotal vol enthalpy c_Hmsd[*]\n",
    "thermo_modify flush yes\n",
    "thermo 100\n",
    "\n",
    "dump        dump1 all custom 5000 350.traj.dump id type x y z\n",
    "\n",
    "# Step 1: \n",
    "fix         1 all npt temp ${startingTemp} ${startingTemp} ${tDamp} iso ${externalPressure} ${externalPressure} ${pDamp}\n",
    "run         ${run1}\n",
    "unfix       1"
   ]
  },
  {
   "cell_type": "code",
   "execution_count": null,
   "metadata": {},
   "outputs": [],
   "source": [
    "# EXECUTE THIS CELL\n",
    "lmp = lammps(cmdargs=[\"-log\", \"PdH_350.log\"])\n",
    "lmp.file(\"PdH_350.in\")"
   ]
  },
  {
   "cell_type": "markdown",
   "metadata": {},
   "source": [
    "## 400 K"
   ]
  },
  {
   "cell_type": "code",
   "execution_count": null,
   "metadata": {},
   "outputs": [],
   "source": []
  },
  {
   "cell_type": "code",
   "execution_count": null,
   "metadata": {},
   "outputs": [],
   "source": []
  },
  {
   "cell_type": "markdown",
   "metadata": {},
   "source": [
    "## 450 K"
   ]
  },
  {
   "cell_type": "code",
   "execution_count": null,
   "metadata": {},
   "outputs": [],
   "source": []
  },
  {
   "cell_type": "code",
   "execution_count": null,
   "metadata": {},
   "outputs": [],
   "source": []
  },
  {
   "cell_type": "markdown",
   "metadata": {},
   "source": [
    "## 500 K"
   ]
  },
  {
   "cell_type": "code",
   "execution_count": null,
   "metadata": {},
   "outputs": [],
   "source": []
  },
  {
   "cell_type": "code",
   "execution_count": null,
   "metadata": {},
   "outputs": [],
   "source": []
  },
  {
   "cell_type": "markdown",
   "metadata": {},
   "source": [
    "# (b) Harvest MSD data"
   ]
  },
  {
   "cell_type": "markdown",
   "metadata": {},
   "source": [
    "In this step, you will load the MSD data for hydrogen diffusion from your simulations at different temperatures, merge them into a single DataFrame, and create a time axis.\n",
    "\n",
    "1. Identify the correct output files for each temperature. You can find the filenames either in your LAMMPS input scripts or directly in your working folder.  \n",
    "Then, replace `'name of the text file'` with the actual filenames in the code snippet below.\n",
    "\n",
    "2. The provided snippet:\n",
    "    - Loads each file using `pd.read_csv`,\n",
    "    - Merges the DataFrames on the `Step` column (which represents simulation time steps),\n",
    "    - Converts the timestep to time in picoseconds,\n",
    "    - Reorders columns for clarity.\n",
    "\n",
    "3. Execute the cell once all file names are correctly inserted. You should see a table with time and MSD values at all four temperatures.\n",
    "\n",
    "If you are proficient in Python, feel free to implement your own solution using loops or functions, as long as the final output matches the expected format."
   ]
  },
  {
   "cell_type": "code",
   "execution_count": null,
   "metadata": {},
   "outputs": [],
   "source": [
    "# COMPLETE AND EXECUTE THIS CELL\n",
    "\n",
    "# Time conversion: 1 timestep = 1 fs = 0.001 ps\n",
    "timestep_fs = 1\n",
    "fs_to_ps = 0.001\n",
    "\n",
    "# Load all MSD files\n",
    "df_350 = pd.read_csv('NAME OF THE FILE', comment='#', sep='\\s+', names=['Step','MSD 350K'])\n",
    "# df_400 = \n",
    "# ...\n",
    "# ...\n",
    "\n",
    "# Merge on Step\n",
    "df = df_350.merge(df_400, on='Step').merge(df_450, on='Step').merge(df_500, on='Step')\n",
    "\n",
    "# Add Time column in ps\n",
    "df['Time [ps]'] = df['Step'] * timestep_fs * fs_to_ps\n",
    "\n",
    "# Reorder columns\n",
    "df = df[['Step', 'Time [ps]', 'MSD 350K', 'MSD 400K', 'MSD 450K', 'MSD 500K']]\n",
    "\n",
    "\n",
    "# Show result\n",
    "df.round(3)"
   ]
  },
  {
   "cell_type": "markdown",
   "metadata": {},
   "source": [
    "This DataFrame presents mean squared displacement (MSD) data over time for different temperatures.\n",
    "\n",
    "  * `Step`: Simulation step index.\n",
    "\n",
    "  * `Time [ps]`: Time in picoseconds corresponding to each simulation step.\n",
    "  \n",
    "  * `MSD 350K` to `MSD 500K`: Mean squared displacement values at 350K, 400K, 450K, and 500K, respectively."
   ]
  },
  {
   "cell_type": "markdown",
   "metadata": {},
   "source": [
    "4. Now, complete the code snippet below to plot all the MSD datasets on a single graph.\n",
    "  - Replace `'header of the x column'` and `'header of the y column'` with the exact column names from the DataFrame that you want to plot. Make sure the names match the DataFrame headers exactly.\n",
    "\n",
    "  - You will need to do this four times: once for each temperature dataset."
   ]
  },
  {
   "cell_type": "code",
   "execution_count": null,
   "metadata": {},
   "outputs": [],
   "source": [
    "# COMPLETE AND EXECUTE THIS CELL\n",
    "\n",
    "sns.lineplot(data=df, x='header of the x column', y='header of the y column', label='temperature value')   # data for 350 K\n",
    "# data for 400 K\n",
    "# data for 450 K\n",
    "# data for 500 K\n",
    "\n",
    "\n",
    "plt.xlabel('Time [ps]')\n",
    "plt.ylabel(r'MSD [$\\mathrm{\\AA^2}$]')\n",
    "\n",
    "plt.grid(True, alpha=0.5)\n",
    "plt.show()"
   ]
  },
  {
   "cell_type": "markdown",
   "metadata": {},
   "source": [
    "## (c) Calculate diffusion coefficients\n",
    "\n",
    "Calculate the diffusion coefficient at the given temperatures by applying Einstein’s relation with $d=3$:\n",
    "$$\n",
    "\\text{MSD}(t) = 2dDt\n",
    "$$\n",
    "\n",
    "The diffusion coefficient is extracted from the slope of the MSD vs. time curve, which we expect to be linear at long times:\n",
    "$$\n",
    "\\text{MSD}(t) = a \\cdot t + b\n",
    "$$\n",
    "\n",
    "> Think about the physical meaning of MSD at time $t=0$.\n",
    "> What value should the MSD have at the very beginning of the simulation?\n",
    "> What does that tell you about the constant $b$?\n",
    "\n",
    "Below is a generic function you can use for curve fitting: adapt it according to your answer to the previous questions."
   ]
  },
  {
   "cell_type": "code",
   "execution_count": null,
   "metadata": {},
   "outputs": [],
   "source": [
    "# ADAPT AND EXECUTE THIS CELL\n",
    "\n",
    "# Linear model: MSD(t) = a * t + b\n",
    "def msd_model(t, a, b):\n",
    "    return a * t + b"
   ]
  },
  {
   "cell_type": "markdown",
   "metadata": {},
   "source": [
    "<details>\n",
    "<summary>Spoiler Alert</summary>\n",
    "\n",
    "If you reasoned that MSD should be zero at $t = 0$, you're right! Here's a simplified model that reflects that:\n",
    "\n",
    "```python\n",
    "# MSD(t) = a * t, with zero intercept\n",
    "def msd_model(t, a):\n",
    "    return a * t\n",
    "```\n",
    "</details> "
   ]
  },
  {
   "cell_type": "markdown",
   "metadata": {},
   "source": [
    "Adapt the following code snippet to extract the diffusion coefficient $D$ at each temperature using the DataFrame from the previous task.\n",
    "\n",
    "- Replace `'header of the x column'` with `'Time [ps]'`.\n",
    "\n",
    "- Replace `'header of the y column'` with the MSD column corresponding to the temperature you're working with (e.g., `'MSD 350K'`).\n",
    "\n",
    "- Set the correct dimensionality of the system, so the denominator becomes $2d$ in the Einstein relation.\n",
    "\n",
    "Repeat this process for the other temperatures by adapting the MSD column name and label in `print()`."
   ]
  },
  {
   "cell_type": "markdown",
   "metadata": {},
   "source": [
    "Bonus: Try fitting with and without the intercept. Do you see a difference in extracted $D$?\n",
    "What might cause a non-zero intercept?"
   ]
  },
  {
   "cell_type": "code",
   "execution_count": null,
   "metadata": {},
   "outputs": [],
   "source": [
    "# COMPLETE AND EXECUTE THIS CELL\n",
    "\n",
    "d = ... # dimensionality of the system\n",
    "\n",
    "### data for 350 K\n",
    "t = df['header of the x column']\n",
    "msd_350 = df['header of the y column']\n",
    "\n",
    "# Fit and extract D\n",
    "popt_350, _ = curve_fit(msd_model, t, msd_350)\n",
    "\n",
    "D_350 = popt_350[0] / 2*d\n",
    "\n",
    "print(f\"T = 350 K: D = {D_350:.2e} Å²/ps\")\n",
    "\n",
    "\n",
    "### data for 400 K\n",
    "# ...\n",
    "\n",
    "### data for 450 K\n",
    "# ...\n",
    "\n",
    "### data for 500 K\n",
    "# ..."
   ]
  },
  {
   "cell_type": "markdown",
   "metadata": {},
   "source": [
    "## (d) Arrhenius fitting\n",
    "\n",
    "Now that you've extracted the diffusion coefficients $D$ at different temperatures, it's time to organize your results in a table so you can use them for further analysis (like Arrhenius fitting).\n",
    "\n",
    "1. Replace the placeholder list of `temperatures` with the actual values used in your simulations (e.g., `350`).\n",
    "\n",
    "2. Replace the list of `diffusion_coeffs` with the actual *variable names* (not the numerical values) you defined for each diffusion coefficient (e.g., `D_350`).\n",
    "\n",
    "3. Run the cell to create a new DataFrame `df_diffusion_fits` with:\n",
    "    - Temperature\n",
    "    - Diffusion coefficient\n",
    "    - Inverse temperature \n",
    "    - Natural logarithm of the diffusion coefficient "
   ]
  },
  {
   "cell_type": "code",
   "execution_count": null,
   "metadata": {},
   "outputs": [],
   "source": [
    "# COMPLETE AND EXECUTE THIS CELL\n",
    "\n",
    "# Lists of values (to complete)\n",
    "temperatures = [temperatures values separated by commas]\n",
    "diffusion_coeffs = [variable names of the diffusion coefficients, separated by commas]\n",
    "\n",
    "# Create the DataFrame\n",
    "df_diffusion_fits = pd.DataFrame({\n",
    "    'T [K]': temperatures,\n",
    "    'D [Å²/ps]': diffusion_coeffs\n",
    "})\n",
    "\n",
    "# Add derived columns\n",
    "df_diffusion_fits['1/T [1/K]'] = 1 / df_diffusion_fits['T [K]']\n",
    "df_diffusion_fits['ln D'] = np.log(df_diffusion_fits['D [Å²/ps]'])\n",
    "\n",
    "# Show it\n",
    "df_diffusion_fits"
   ]
  },
  {
   "cell_type": "markdown",
   "metadata": {},
   "source": [
    "Complete and execute the following snippet to fit the natural logarithm of the diffusion coefficient $\\ln D$ to a linear function of inverse temperature $1/T$, based on the Arrhenius equation:\n",
    "$$\n",
    "\\ln D = \\ln D_0 - \\frac{E_a}{k_B T}\n",
    "$$\n",
    "\n",
    "Be sure to input the correct column headers from the previous DataFrame where required.\n",
    "\n",
    "This allows you to extract two important physical parameters:\n",
    "\n",
    "- $D_0$: the pre-exponential factor,\n",
    "\n",
    "- $E_a$: the activation energy, in eV."
   ]
  },
  {
   "cell_type": "code",
   "execution_count": null,
   "metadata": {},
   "outputs": [],
   "source": [
    "# COMPLETE AND EXECUTE THIS CELL\n",
    "# Extract values\n",
    "invT = df_diffusion_fits['header of the x column']\n",
    "lnD = df_diffusion_fits['header of the y column']\n",
    "\n",
    "# Define linear Arrhenius model\n",
    "def arrhenius_ln(invT, slope, intercept):\n",
    "    return slope * invT + intercept\n",
    "\n",
    "# Fit\n",
    "popt, _ = curve_fit(arrhenius_ln, invT, lnD)\n",
    "slope, intercept = popt\n",
    "\n",
    "# Extract physical parameters\n",
    "kB = 8.617e-5  # eV/K\n",
    "Ea_eV = -slope * kB\n",
    "D0 = np.exp(intercept)\n",
    "\n",
    "print(f\"Fitted activation energy Ea = {Ea_eV:.3f} eV\")\n",
    "print(f\"Fitted pre-exponential factor D0 = {D0:.2e} Å²/ps\")"
   ]
  },
  {
   "cell_type": "markdown",
   "metadata": {},
   "source": [
    "Finally, execute the last snippet to visualize the fit."
   ]
  },
  {
   "cell_type": "code",
   "execution_count": null,
   "metadata": {},
   "outputs": [],
   "source": [
    "# EXECUTE THIS CELL\n",
    "sns.scatterplot(x=invT, y=lnD, label='data', color='teal')\n",
    "sns.lineplot(x=invT, y=arrhenius_ln(invT, slope, intercept), label='linear fit', color='tomato')\n",
    "\n",
    "plt.xlabel('1/T [1/K]')\n",
    "plt.ylabel('ln D')\n",
    "\n",
    "plt.grid(True, alpha=0.5)\n",
    "plt.legend()\n",
    "plt.show()"
   ]
  }
 ],
 "metadata": {
  "kernelspec": {
   "display_name": "tmms25",
   "language": "python",
   "name": "python3"
  },
  "language_info": {
   "codemirror_mode": {
    "name": "ipython",
    "version": 3
   },
   "file_extension": ".py",
   "mimetype": "text/x-python",
   "name": "python",
   "nbconvert_exporter": "python",
   "pygments_lexer": "ipython3",
   "version": "3.10.16"
  }
 },
 "nbformat": 4,
 "nbformat_minor": 2
}
